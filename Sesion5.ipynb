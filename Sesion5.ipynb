{
  "nbformat": 4,
  "nbformat_minor": 0,
  "metadata": {
    "colab": {
      "provenance": [],
      "authorship_tag": "ABX9TyOikIgAEV/Ir/gTHoeBX9aj",
      "include_colab_link": true
    },
    "kernelspec": {
      "name": "python3",
      "display_name": "Python 3"
    },
    "language_info": {
      "name": "python"
    }
  },
  "cells": [
    {
      "cell_type": "markdown",
      "metadata": {
        "id": "view-in-github",
        "colab_type": "text"
      },
      "source": [
        "<a href=\"https://colab.research.google.com/github/jesm-erick/Tokenizacion/blob/main/Sesion5.ipynb\" target=\"_parent\"><img src=\"https://colab.research.google.com/assets/colab-badge.svg\" alt=\"Open In Colab\"/></a>"
      ]
    },
    {
      "cell_type": "code",
      "execution_count": 35,
      "metadata": {
        "id": "aGHNhfkhvdKV",
        "colab": {
          "base_uri": "https://localhost:8080/"
        },
        "collapsed": true,
        "outputId": "b5d92ba1-4966-418b-bf53-80d8e8d7a52d"
      },
      "outputs": [
        {
          "output_type": "stream",
          "name": "stdout",
          "text": [
            "Requirement already satisfied: spacy in /usr/local/lib/python3.10/dist-packages (3.7.5)\n",
            "Requirement already satisfied: spacy-legacy<3.1.0,>=3.0.11 in /usr/local/lib/python3.10/dist-packages (from spacy) (3.0.12)\n",
            "Requirement already satisfied: spacy-loggers<2.0.0,>=1.0.0 in /usr/local/lib/python3.10/dist-packages (from spacy) (1.0.5)\n",
            "Requirement already satisfied: murmurhash<1.1.0,>=0.28.0 in /usr/local/lib/python3.10/dist-packages (from spacy) (1.0.10)\n",
            "Requirement already satisfied: cymem<2.1.0,>=2.0.2 in /usr/local/lib/python3.10/dist-packages (from spacy) (2.0.8)\n",
            "Requirement already satisfied: preshed<3.1.0,>=3.0.2 in /usr/local/lib/python3.10/dist-packages (from spacy) (3.0.9)\n",
            "Requirement already satisfied: thinc<8.3.0,>=8.2.2 in /usr/local/lib/python3.10/dist-packages (from spacy) (8.2.5)\n",
            "Requirement already satisfied: wasabi<1.2.0,>=0.9.1 in /usr/local/lib/python3.10/dist-packages (from spacy) (1.1.3)\n",
            "Requirement already satisfied: srsly<3.0.0,>=2.4.3 in /usr/local/lib/python3.10/dist-packages (from spacy) (2.4.8)\n",
            "Requirement already satisfied: catalogue<2.1.0,>=2.0.6 in /usr/local/lib/python3.10/dist-packages (from spacy) (2.0.10)\n",
            "Requirement already satisfied: weasel<0.5.0,>=0.1.0 in /usr/local/lib/python3.10/dist-packages (from spacy) (0.4.1)\n",
            "Requirement already satisfied: typer<1.0.0,>=0.3.0 in /usr/local/lib/python3.10/dist-packages (from spacy) (0.12.3)\n",
            "Requirement already satisfied: tqdm<5.0.0,>=4.38.0 in /usr/local/lib/python3.10/dist-packages (from spacy) (4.66.4)\n",
            "Requirement already satisfied: requests<3.0.0,>=2.13.0 in /usr/local/lib/python3.10/dist-packages (from spacy) (2.31.0)\n",
            "Requirement already satisfied: pydantic!=1.8,!=1.8.1,<3.0.0,>=1.7.4 in /usr/local/lib/python3.10/dist-packages (from spacy) (2.7.4)\n",
            "Requirement already satisfied: jinja2 in /usr/local/lib/python3.10/dist-packages (from spacy) (3.1.4)\n",
            "Requirement already satisfied: setuptools in /usr/local/lib/python3.10/dist-packages (from spacy) (67.7.2)\n",
            "Requirement already satisfied: packaging>=20.0 in /usr/local/lib/python3.10/dist-packages (from spacy) (24.1)\n",
            "Requirement already satisfied: langcodes<4.0.0,>=3.2.0 in /usr/local/lib/python3.10/dist-packages (from spacy) (3.4.0)\n",
            "Requirement already satisfied: numpy>=1.19.0 in /usr/local/lib/python3.10/dist-packages (from spacy) (1.25.2)\n",
            "Requirement already satisfied: language-data>=1.2 in /usr/local/lib/python3.10/dist-packages (from langcodes<4.0.0,>=3.2.0->spacy) (1.2.0)\n",
            "Requirement already satisfied: annotated-types>=0.4.0 in /usr/local/lib/python3.10/dist-packages (from pydantic!=1.8,!=1.8.1,<3.0.0,>=1.7.4->spacy) (0.7.0)\n",
            "Requirement already satisfied: pydantic-core==2.18.4 in /usr/local/lib/python3.10/dist-packages (from pydantic!=1.8,!=1.8.1,<3.0.0,>=1.7.4->spacy) (2.18.4)\n",
            "Requirement already satisfied: typing-extensions>=4.6.1 in /usr/local/lib/python3.10/dist-packages (from pydantic!=1.8,!=1.8.1,<3.0.0,>=1.7.4->spacy) (4.12.2)\n",
            "Requirement already satisfied: charset-normalizer<4,>=2 in /usr/local/lib/python3.10/dist-packages (from requests<3.0.0,>=2.13.0->spacy) (3.3.2)\n",
            "Requirement already satisfied: idna<4,>=2.5 in /usr/local/lib/python3.10/dist-packages (from requests<3.0.0,>=2.13.0->spacy) (3.7)\n",
            "Requirement already satisfied: urllib3<3,>=1.21.1 in /usr/local/lib/python3.10/dist-packages (from requests<3.0.0,>=2.13.0->spacy) (2.0.7)\n",
            "Requirement already satisfied: certifi>=2017.4.17 in /usr/local/lib/python3.10/dist-packages (from requests<3.0.0,>=2.13.0->spacy) (2024.6.2)\n",
            "Requirement already satisfied: blis<0.8.0,>=0.7.8 in /usr/local/lib/python3.10/dist-packages (from thinc<8.3.0,>=8.2.2->spacy) (0.7.11)\n",
            "Requirement already satisfied: confection<1.0.0,>=0.0.1 in /usr/local/lib/python3.10/dist-packages (from thinc<8.3.0,>=8.2.2->spacy) (0.1.5)\n",
            "Requirement already satisfied: click>=8.0.0 in /usr/local/lib/python3.10/dist-packages (from typer<1.0.0,>=0.3.0->spacy) (8.1.7)\n",
            "Requirement already satisfied: shellingham>=1.3.0 in /usr/local/lib/python3.10/dist-packages (from typer<1.0.0,>=0.3.0->spacy) (1.5.4)\n",
            "Requirement already satisfied: rich>=10.11.0 in /usr/local/lib/python3.10/dist-packages (from typer<1.0.0,>=0.3.0->spacy) (13.7.1)\n",
            "Requirement already satisfied: cloudpathlib<1.0.0,>=0.7.0 in /usr/local/lib/python3.10/dist-packages (from weasel<0.5.0,>=0.1.0->spacy) (0.18.1)\n",
            "Requirement already satisfied: smart-open<8.0.0,>=5.2.1 in /usr/local/lib/python3.10/dist-packages (from weasel<0.5.0,>=0.1.0->spacy) (7.0.4)\n",
            "Requirement already satisfied: MarkupSafe>=2.0 in /usr/local/lib/python3.10/dist-packages (from jinja2->spacy) (2.1.5)\n",
            "Requirement already satisfied: marisa-trie>=0.7.7 in /usr/local/lib/python3.10/dist-packages (from language-data>=1.2->langcodes<4.0.0,>=3.2.0->spacy) (1.2.0)\n",
            "Requirement already satisfied: markdown-it-py>=2.2.0 in /usr/local/lib/python3.10/dist-packages (from rich>=10.11.0->typer<1.0.0,>=0.3.0->spacy) (3.0.0)\n",
            "Requirement already satisfied: pygments<3.0.0,>=2.13.0 in /usr/local/lib/python3.10/dist-packages (from rich>=10.11.0->typer<1.0.0,>=0.3.0->spacy) (2.16.1)\n",
            "Requirement already satisfied: wrapt in /usr/local/lib/python3.10/dist-packages (from smart-open<8.0.0,>=5.2.1->weasel<0.5.0,>=0.1.0->spacy) (1.14.1)\n",
            "Requirement already satisfied: mdurl~=0.1 in /usr/local/lib/python3.10/dist-packages (from markdown-it-py>=2.2.0->rich>=10.11.0->typer<1.0.0,>=0.3.0->spacy) (0.1.2)\n"
          ]
        }
      ],
      "source": [
        "# Este comando instala o actualiza SpaCy, una biblioteca de procesamiento de lenguaje natural (NLP).\n",
        "!pip install -U spacy\n"
      ]
    },
    {
      "cell_type": "code",
      "source": [
        "# Este comando descarga e instala el modelo de idioma inglés \"en_core_web_sm\" para SpaCy.\n",
        "!python -m spacy download en_core_web_sm"
      ],
      "metadata": {
        "collapsed": true,
        "colab": {
          "base_uri": "https://localhost:8080/"
        },
        "id": "eTNYKeRQYfCB",
        "outputId": "24571519-30ff-411d-8191-64d279ff0c78"
      },
      "execution_count": 36,
      "outputs": [
        {
          "output_type": "stream",
          "name": "stdout",
          "text": [
            "Collecting en-core-web-sm==3.7.1\n",
            "  Downloading https://github.com/explosion/spacy-models/releases/download/en_core_web_sm-3.7.1/en_core_web_sm-3.7.1-py3-none-any.whl (12.8 MB)\n",
            "\u001b[2K     \u001b[90m━━━━━━━━━━━━━━━━━━━━━━━━━━━━━━━━━━━━━━━━\u001b[0m \u001b[32m12.8/12.8 MB\u001b[0m \u001b[31m64.9 MB/s\u001b[0m eta \u001b[36m0:00:00\u001b[0m\n",
            "\u001b[?25hRequirement already satisfied: spacy<3.8.0,>=3.7.2 in /usr/local/lib/python3.10/dist-packages (from en-core-web-sm==3.7.1) (3.7.5)\n",
            "Requirement already satisfied: spacy-legacy<3.1.0,>=3.0.11 in /usr/local/lib/python3.10/dist-packages (from spacy<3.8.0,>=3.7.2->en-core-web-sm==3.7.1) (3.0.12)\n",
            "Requirement already satisfied: spacy-loggers<2.0.0,>=1.0.0 in /usr/local/lib/python3.10/dist-packages (from spacy<3.8.0,>=3.7.2->en-core-web-sm==3.7.1) (1.0.5)\n",
            "Requirement already satisfied: murmurhash<1.1.0,>=0.28.0 in /usr/local/lib/python3.10/dist-packages (from spacy<3.8.0,>=3.7.2->en-core-web-sm==3.7.1) (1.0.10)\n",
            "Requirement already satisfied: cymem<2.1.0,>=2.0.2 in /usr/local/lib/python3.10/dist-packages (from spacy<3.8.0,>=3.7.2->en-core-web-sm==3.7.1) (2.0.8)\n",
            "Requirement already satisfied: preshed<3.1.0,>=3.0.2 in /usr/local/lib/python3.10/dist-packages (from spacy<3.8.0,>=3.7.2->en-core-web-sm==3.7.1) (3.0.9)\n",
            "Requirement already satisfied: thinc<8.3.0,>=8.2.2 in /usr/local/lib/python3.10/dist-packages (from spacy<3.8.0,>=3.7.2->en-core-web-sm==3.7.1) (8.2.5)\n",
            "Requirement already satisfied: wasabi<1.2.0,>=0.9.1 in /usr/local/lib/python3.10/dist-packages (from spacy<3.8.0,>=3.7.2->en-core-web-sm==3.7.1) (1.1.3)\n",
            "Requirement already satisfied: srsly<3.0.0,>=2.4.3 in /usr/local/lib/python3.10/dist-packages (from spacy<3.8.0,>=3.7.2->en-core-web-sm==3.7.1) (2.4.8)\n",
            "Requirement already satisfied: catalogue<2.1.0,>=2.0.6 in /usr/local/lib/python3.10/dist-packages (from spacy<3.8.0,>=3.7.2->en-core-web-sm==3.7.1) (2.0.10)\n",
            "Requirement already satisfied: weasel<0.5.0,>=0.1.0 in /usr/local/lib/python3.10/dist-packages (from spacy<3.8.0,>=3.7.2->en-core-web-sm==3.7.1) (0.4.1)\n",
            "Requirement already satisfied: typer<1.0.0,>=0.3.0 in /usr/local/lib/python3.10/dist-packages (from spacy<3.8.0,>=3.7.2->en-core-web-sm==3.7.1) (0.12.3)\n",
            "Requirement already satisfied: tqdm<5.0.0,>=4.38.0 in /usr/local/lib/python3.10/dist-packages (from spacy<3.8.0,>=3.7.2->en-core-web-sm==3.7.1) (4.66.4)\n",
            "Requirement already satisfied: requests<3.0.0,>=2.13.0 in /usr/local/lib/python3.10/dist-packages (from spacy<3.8.0,>=3.7.2->en-core-web-sm==3.7.1) (2.31.0)\n",
            "Requirement already satisfied: pydantic!=1.8,!=1.8.1,<3.0.0,>=1.7.4 in /usr/local/lib/python3.10/dist-packages (from spacy<3.8.0,>=3.7.2->en-core-web-sm==3.7.1) (2.7.4)\n",
            "Requirement already satisfied: jinja2 in /usr/local/lib/python3.10/dist-packages (from spacy<3.8.0,>=3.7.2->en-core-web-sm==3.7.1) (3.1.4)\n",
            "Requirement already satisfied: setuptools in /usr/local/lib/python3.10/dist-packages (from spacy<3.8.0,>=3.7.2->en-core-web-sm==3.7.1) (67.7.2)\n",
            "Requirement already satisfied: packaging>=20.0 in /usr/local/lib/python3.10/dist-packages (from spacy<3.8.0,>=3.7.2->en-core-web-sm==3.7.1) (24.1)\n",
            "Requirement already satisfied: langcodes<4.0.0,>=3.2.0 in /usr/local/lib/python3.10/dist-packages (from spacy<3.8.0,>=3.7.2->en-core-web-sm==3.7.1) (3.4.0)\n",
            "Requirement already satisfied: numpy>=1.19.0 in /usr/local/lib/python3.10/dist-packages (from spacy<3.8.0,>=3.7.2->en-core-web-sm==3.7.1) (1.25.2)\n",
            "Requirement already satisfied: language-data>=1.2 in /usr/local/lib/python3.10/dist-packages (from langcodes<4.0.0,>=3.2.0->spacy<3.8.0,>=3.7.2->en-core-web-sm==3.7.1) (1.2.0)\n",
            "Requirement already satisfied: annotated-types>=0.4.0 in /usr/local/lib/python3.10/dist-packages (from pydantic!=1.8,!=1.8.1,<3.0.0,>=1.7.4->spacy<3.8.0,>=3.7.2->en-core-web-sm==3.7.1) (0.7.0)\n",
            "Requirement already satisfied: pydantic-core==2.18.4 in /usr/local/lib/python3.10/dist-packages (from pydantic!=1.8,!=1.8.1,<3.0.0,>=1.7.4->spacy<3.8.0,>=3.7.2->en-core-web-sm==3.7.1) (2.18.4)\n",
            "Requirement already satisfied: typing-extensions>=4.6.1 in /usr/local/lib/python3.10/dist-packages (from pydantic!=1.8,!=1.8.1,<3.0.0,>=1.7.4->spacy<3.8.0,>=3.7.2->en-core-web-sm==3.7.1) (4.12.2)\n",
            "Requirement already satisfied: charset-normalizer<4,>=2 in /usr/local/lib/python3.10/dist-packages (from requests<3.0.0,>=2.13.0->spacy<3.8.0,>=3.7.2->en-core-web-sm==3.7.1) (3.3.2)\n",
            "Requirement already satisfied: idna<4,>=2.5 in /usr/local/lib/python3.10/dist-packages (from requests<3.0.0,>=2.13.0->spacy<3.8.0,>=3.7.2->en-core-web-sm==3.7.1) (3.7)\n",
            "Requirement already satisfied: urllib3<3,>=1.21.1 in /usr/local/lib/python3.10/dist-packages (from requests<3.0.0,>=2.13.0->spacy<3.8.0,>=3.7.2->en-core-web-sm==3.7.1) (2.0.7)\n",
            "Requirement already satisfied: certifi>=2017.4.17 in /usr/local/lib/python3.10/dist-packages (from requests<3.0.0,>=2.13.0->spacy<3.8.0,>=3.7.2->en-core-web-sm==3.7.1) (2024.6.2)\n",
            "Requirement already satisfied: blis<0.8.0,>=0.7.8 in /usr/local/lib/python3.10/dist-packages (from thinc<8.3.0,>=8.2.2->spacy<3.8.0,>=3.7.2->en-core-web-sm==3.7.1) (0.7.11)\n",
            "Requirement already satisfied: confection<1.0.0,>=0.0.1 in /usr/local/lib/python3.10/dist-packages (from thinc<8.3.0,>=8.2.2->spacy<3.8.0,>=3.7.2->en-core-web-sm==3.7.1) (0.1.5)\n",
            "Requirement already satisfied: click>=8.0.0 in /usr/local/lib/python3.10/dist-packages (from typer<1.0.0,>=0.3.0->spacy<3.8.0,>=3.7.2->en-core-web-sm==3.7.1) (8.1.7)\n",
            "Requirement already satisfied: shellingham>=1.3.0 in /usr/local/lib/python3.10/dist-packages (from typer<1.0.0,>=0.3.0->spacy<3.8.0,>=3.7.2->en-core-web-sm==3.7.1) (1.5.4)\n",
            "Requirement already satisfied: rich>=10.11.0 in /usr/local/lib/python3.10/dist-packages (from typer<1.0.0,>=0.3.0->spacy<3.8.0,>=3.7.2->en-core-web-sm==3.7.1) (13.7.1)\n",
            "Requirement already satisfied: cloudpathlib<1.0.0,>=0.7.0 in /usr/local/lib/python3.10/dist-packages (from weasel<0.5.0,>=0.1.0->spacy<3.8.0,>=3.7.2->en-core-web-sm==3.7.1) (0.18.1)\n",
            "Requirement already satisfied: smart-open<8.0.0,>=5.2.1 in /usr/local/lib/python3.10/dist-packages (from weasel<0.5.0,>=0.1.0->spacy<3.8.0,>=3.7.2->en-core-web-sm==3.7.1) (7.0.4)\n",
            "Requirement already satisfied: MarkupSafe>=2.0 in /usr/local/lib/python3.10/dist-packages (from jinja2->spacy<3.8.0,>=3.7.2->en-core-web-sm==3.7.1) (2.1.5)\n",
            "Requirement already satisfied: marisa-trie>=0.7.7 in /usr/local/lib/python3.10/dist-packages (from language-data>=1.2->langcodes<4.0.0,>=3.2.0->spacy<3.8.0,>=3.7.2->en-core-web-sm==3.7.1) (1.2.0)\n",
            "Requirement already satisfied: markdown-it-py>=2.2.0 in /usr/local/lib/python3.10/dist-packages (from rich>=10.11.0->typer<1.0.0,>=0.3.0->spacy<3.8.0,>=3.7.2->en-core-web-sm==3.7.1) (3.0.0)\n",
            "Requirement already satisfied: pygments<3.0.0,>=2.13.0 in /usr/local/lib/python3.10/dist-packages (from rich>=10.11.0->typer<1.0.0,>=0.3.0->spacy<3.8.0,>=3.7.2->en-core-web-sm==3.7.1) (2.16.1)\n",
            "Requirement already satisfied: wrapt in /usr/local/lib/python3.10/dist-packages (from smart-open<8.0.0,>=5.2.1->weasel<0.5.0,>=0.1.0->spacy<3.8.0,>=3.7.2->en-core-web-sm==3.7.1) (1.14.1)\n",
            "Requirement already satisfied: mdurl~=0.1 in /usr/local/lib/python3.10/dist-packages (from markdown-it-py>=2.2.0->rich>=10.11.0->typer<1.0.0,>=0.3.0->spacy<3.8.0,>=3.7.2->en-core-web-sm==3.7.1) (0.1.2)\n",
            "\u001b[38;5;2m✔ Download and installation successful\u001b[0m\n",
            "You can now load the package via spacy.load('en_core_web_sm')\n",
            "\u001b[38;5;3m⚠ Restart to reload dependencies\u001b[0m\n",
            "If you are in a Jupyter or Colab notebook, you may need to restart Python in\n",
            "order to load all the package's dependencies. You can do this by selecting the\n",
            "'Restart kernel' or 'Restart runtime' option.\n"
          ]
        }
      ]
    },
    {
      "cell_type": "markdown",
      "source": [
        "# Primeros pasos con spaCy"
      ],
      "metadata": {
        "id": "D5OwsMoq0rx4"
      }
    },
    {
      "cell_type": "code",
      "source": [
        "# Importa la biblioteca SpaCy, que es una herramienta poderosa para el procesamiento de lenguaje natural (NLP).\n",
        "import spacy\n",
        "# Carga el modelo de idioma inglés 'en_core_web_sm' en la variable 'nlp'.\n",
        "# 'en_core_web_sm' es un modelo pequeño preentrenado que SpaCy ofrece para procesar texto en inglés.\n",
        "nlp = spacy.load('en_core_web_sm')"
      ],
      "metadata": {
        "id": "aBqpQxyaXQal"
      },
      "execution_count": 11,
      "outputs": []
    },
    {
      "cell_type": "code",
      "source": [
        "# Imprime el tipo de la variable 'nlp'.\n",
        "# Esto te permitirá ver la clase o el tipo de objeto que es 'nlp', que debería ser un objeto de la clase 'spacy.lang.en.English' cuando usas SpaCy.\n",
        "type(nlp)"
      ],
      "metadata": {
        "colab": {
          "base_uri": "https://localhost:8080/",
          "height": 204
        },
        "id": "YjWyeuLgXa_r",
        "outputId": "61b34165-97bf-42e9-db94-60d08892ddc9"
      },
      "execution_count": 14,
      "outputs": [
        {
          "output_type": "execute_result",
          "data": {
            "text/plain": [
              "spacy.lang.en.English"
            ],
            "text/html": [
              "<div style=\"max-width:800px; border: 1px solid var(--colab-border-color);\"><style>\n",
              "      pre.function-repr-contents {\n",
              "        overflow-x: auto;\n",
              "        padding: 8px 12px;\n",
              "        max-height: 500px;\n",
              "      }\n",
              "\n",
              "      pre.function-repr-contents.function-repr-contents-collapsed {\n",
              "        cursor: pointer;\n",
              "        max-height: 100px;\n",
              "      }\n",
              "    </style>\n",
              "    <pre style=\"white-space: initial; background:\n",
              "         var(--colab-secondary-surface-color); padding: 8px 12px;\n",
              "         border-bottom: 1px solid var(--colab-border-color);\"><b>spacy.lang.en.English</b><br/>def __call__(text: Union[str, Doc], *, disable: Iterable[str]=SimpleFrozenList(), component_cfg: Optional[Dict[str, Dict[str, Any]]]=None) -&gt; Doc</pre><pre class=\"function-repr-contents function-repr-contents-collapsed\" style=\"\"><a class=\"filepath\" style=\"display:none\" href=\"#\">/usr/local/lib/python3.10/dist-packages/spacy/lang/en/__init__.py</a>A text-processing pipeline. Usually you&#x27;ll load this once per process,\n",
              "and pass the instance around your application.\n",
              "\n",
              "Defaults (class): Settings, data and factory methods for creating the `nlp`\n",
              "    object and processing pipeline.\n",
              "lang (str): IETF language code, such as &#x27;en&#x27;.\n",
              "\n",
              "DOCS: https://spacy.io/api/language</pre>\n",
              "      <script>\n",
              "      if (google.colab.kernel.accessAllowed && google.colab.files && google.colab.files.view) {\n",
              "        for (const element of document.querySelectorAll('.filepath')) {\n",
              "          element.style.display = 'block'\n",
              "          element.onclick = (event) => {\n",
              "            event.preventDefault();\n",
              "            event.stopPropagation();\n",
              "            google.colab.files.view(element.textContent, 22);\n",
              "          };\n",
              "        }\n",
              "      }\n",
              "      for (const element of document.querySelectorAll('.function-repr-contents')) {\n",
              "        element.onclick = (event) => {\n",
              "          event.preventDefault();\n",
              "          event.stopPropagation();\n",
              "          element.classList.toggle('function-repr-contents-collapsed');\n",
              "        };\n",
              "      }\n",
              "      </script>\n",
              "      </div>"
            ]
          },
          "metadata": {},
          "execution_count": 14
        }
      ]
    },
    {
      "cell_type": "code",
      "source": [
        "# Definimos una variable 'texto' con una cadena de texto que contiene una noticia sobre el rescate y adopción de un perrito.\n",
        "texto = \"\"\"Puno Serenos logran rescatar a un perrito en estado de abandono y logran su adopción. Durante la ronda de patrullaje por el cerrito Huajsapata, los serenos fueron alertados por un vecino acerca del llanto de un animal dentro de una cueva.\n",
        "Los efectivos de serenazgo encontraron a un cachorro dentro de un hoyo con restos de comida y ropa. Luego de varios intentos por rescatarlo pudieron extraer al animal para luego trasladarlo al Puesto de Auxilio Rápido - PAR Huajsapata, donde se comunicó al responsable de la Veterinaria Municipal.\n",
        "Posterior al rescate, una ciudadana de iniciales D.C.L. (19), solicitó poder adoptar a la cachorrita, después de algunas coordinaciones con el Veterinario Municipal se aprobó la adopción previa esterilización.\"\"\""
      ],
      "metadata": {
        "id": "VeEAbgStZFpA"
      },
      "execution_count": 17,
      "outputs": []
    },
    {
      "cell_type": "code",
      "source": [
        "#imprimimos\n",
        "print(texto)"
      ],
      "metadata": {
        "colab": {
          "base_uri": "https://localhost:8080/"
        },
        "id": "rmbyL5Z7ZgkQ",
        "outputId": "b52a2a44-6ca0-4693-9fab-59fa819c6521"
      },
      "execution_count": 18,
      "outputs": [
        {
          "output_type": "stream",
          "name": "stdout",
          "text": [
            "Puno Serenos logran rescatar a un perrito en estado de abandono y logran su adopción. Durante la ronda de patrullaje por el cerrito Huajsapata, los serenos fueron alertados por un vecino acerca del llanto de un animal dentro de una cueva.\n",
            "Los efectivos de serenazgo encontraron a un cachorro dentro de un hoyo con restos de comida y ropa. Luego de varios intentos por rescatarlo pudieron extraer al animal para luego trasladarlo al Puesto de Auxilio Rápido - PAR Huajsapata, donde se comunicó al responsable de la Veterinaria Municipal.\n",
            "Posterior al rescate, una ciudadana de iniciales D.C.L. (19), solicitó poder adoptar a la cachorrita, después de algunas coordinaciones con el Veterinario Municipal se aprobó la adopción previa esterilización.\n"
          ]
        }
      ]
    },
    {
      "cell_type": "code",
      "source": [
        "#El objeto 'documento' es de tipo 'spacy.tokens.doc.Doc', representando un documento procesado por spaCy.\n",
        "documento = nlp(texto)\n",
        "type(documento)"
      ],
      "metadata": {
        "colab": {
          "base_uri": "https://localhost:8080/"
        },
        "id": "JWXlRwwiZpwh",
        "outputId": "66f3c832-1e65-4734-e660-a3228a484527"
      },
      "execution_count": 19,
      "outputs": [
        {
          "output_type": "execute_result",
          "data": {
            "text/plain": [
              "spacy.tokens.doc.Doc"
            ]
          },
          "metadata": {},
          "execution_count": 19
        }
      ]
    },
    {
      "cell_type": "code",
      "source": [
        "# Itera sobre cada token en el documento procesado\n",
        "for elemento in documento:\n",
        "  print(elemento) # Imprime cada token (elemento) del documento procesado"
      ],
      "metadata": {
        "colab": {
          "base_uri": "https://localhost:8080/"
        },
        "id": "PSmShgKzZz5T",
        "outputId": "e3f21b7e-5517-4124-e1be-78a69dff5858"
      },
      "execution_count": 20,
      "outputs": [
        {
          "output_type": "stream",
          "name": "stdout",
          "text": [
            "Puno\n",
            "Serenos\n",
            "logran\n",
            "rescatar\n",
            "a\n",
            "un\n",
            "perrito\n",
            "en\n",
            "estado\n",
            "de\n",
            "abandono\n",
            "y\n",
            "logran\n",
            "su\n",
            "adopción\n",
            ".\n",
            "Durante\n",
            "la\n",
            "ronda\n",
            "de\n",
            "patrullaje\n",
            "por\n",
            "el\n",
            "cerrito\n",
            "Huajsapata\n",
            ",\n",
            "los\n",
            "serenos\n",
            "fueron\n",
            "alertados\n",
            "por\n",
            "un\n",
            "vecino\n",
            "acerca\n",
            "del\n",
            "llanto\n",
            "de\n",
            "un\n",
            "animal\n",
            "dentro\n",
            "de\n",
            "una\n",
            "cueva\n",
            ".\n",
            "\n",
            "\n",
            "Los\n",
            "efectivos\n",
            "de\n",
            "serenazgo\n",
            "encontraron\n",
            "a\n",
            "un\n",
            "cachorro\n",
            "dentro\n",
            "de\n",
            "un\n",
            "hoyo\n",
            "con\n",
            "restos\n",
            "de\n",
            "comida\n",
            "y\n",
            "ropa\n",
            ".\n",
            "Luego\n",
            "de\n",
            "varios\n",
            "intentos\n",
            "por\n",
            "rescatarlo\n",
            "pudieron\n",
            "extraer\n",
            "al\n",
            "animal\n",
            "para\n",
            "luego\n",
            "trasladarlo\n",
            "al\n",
            "Puesto\n",
            "de\n",
            "Auxilio\n",
            "Rápido\n",
            "-\n",
            "PAR\n",
            "Huajsapata\n",
            ",\n",
            "donde\n",
            "se\n",
            "comunicó\n",
            "al\n",
            "responsable\n",
            "de\n",
            "la\n",
            "Veterinaria\n",
            "Municipal\n",
            ".\n",
            "\n",
            "\n",
            "Posterior\n",
            "al\n",
            "rescate\n",
            ",\n",
            "una\n",
            "ciudadana\n",
            "de\n",
            "iniciales\n",
            "D.C.L.\n",
            "(\n",
            "19\n",
            ")\n",
            ",\n",
            "solicitó\n",
            "poder\n",
            "adoptar\n",
            "a\n",
            "la\n",
            "cachorrita\n",
            ",\n",
            "después\n",
            "de\n",
            "algunas\n",
            "coordinaciones\n",
            "con\n",
            "el\n",
            "Veterinario\n",
            "Municipal\n",
            "se\n",
            "aprobó\n",
            "la\n",
            "adopción\n",
            "previa\n",
            "esterilización\n",
            ".\n"
          ]
        }
      ]
    },
    {
      "cell_type": "code",
      "source": [
        " # Itera sobre cada token en el documento procesado\n",
        "for elemento in documento:\n",
        "  print(elemento, elemento.pos_)# Imprime cada token junto con su etiqueta de parte del discurso (part of speech)"
      ],
      "metadata": {
        "colab": {
          "base_uri": "https://localhost:8080/"
        },
        "id": "c0kv_972Z6QO",
        "outputId": "b4144c85-ccbc-4cbb-b3df-f2471571fa74"
      },
      "execution_count": 22,
      "outputs": [
        {
          "output_type": "stream",
          "name": "stdout",
          "text": [
            "Puno PROPN\n",
            "Serenos PROPN\n",
            "logran NOUN\n",
            "rescatar PROPN\n",
            "a DET\n",
            "un PROPN\n",
            "perrito PROPN\n",
            "en ADV\n",
            "estado PROPN\n",
            "de PROPN\n",
            "abandono PROPN\n",
            "y PROPN\n",
            "logran PROPN\n",
            "su PROPN\n",
            "adopción PROPN\n",
            ". PUNCT\n",
            "Durante PROPN\n",
            "la PROPN\n",
            "ronda PROPN\n",
            "de PROPN\n",
            "patrullaje PROPN\n",
            "por PROPN\n",
            "el PROPN\n",
            "cerrito PROPN\n",
            "Huajsapata PROPN\n",
            ", PUNCT\n",
            "los PROPN\n",
            "serenos PROPN\n",
            "fueron PROPN\n",
            "alertados NOUN\n",
            "por X\n",
            "un PROPN\n",
            "vecino PROPN\n",
            "acerca PROPN\n",
            "del PROPN\n",
            "llanto PROPN\n",
            "de PROPN\n",
            "un PROPN\n",
            "animal PROPN\n",
            "dentro X\n",
            "de X\n",
            "una PROPN\n",
            "cueva PROPN\n",
            ". PUNCT\n",
            "\n",
            " SPACE\n",
            "Los PROPN\n",
            "efectivos ADV\n",
            "de X\n",
            "serenazgo PROPN\n",
            "encontraron PROPN\n",
            "a DET\n",
            "un PROPN\n",
            "cachorro PROPN\n",
            "dentro X\n",
            "de X\n",
            "un PROPN\n",
            "hoyo PROPN\n",
            "con PROPN\n",
            "restos PROPN\n",
            "de X\n",
            "comida PROPN\n",
            "y PROPN\n",
            "ropa NOUN\n",
            ". PUNCT\n",
            "Luego PROPN\n",
            "de PROPN\n",
            "varios PROPN\n",
            "intentos VERB\n",
            "por NOUN\n",
            "rescatarlo PROPN\n",
            "pudieron PROPN\n",
            "extraer PROPN\n",
            "al PROPN\n",
            "animal PROPN\n",
            "para PROPN\n",
            "luego PROPN\n",
            "trasladarlo PROPN\n",
            "al PROPN\n",
            "Puesto PROPN\n",
            "de PROPN\n",
            "Auxilio PROPN\n",
            "Rápido PROPN\n",
            "- PUNCT\n",
            "PAR PROPN\n",
            "Huajsapata PROPN\n",
            ", PUNCT\n",
            "donde PROPN\n",
            "se X\n",
            "comunicó PROPN\n",
            "al PROPN\n",
            "responsable PROPN\n",
            "de X\n",
            "la PROPN\n",
            "Veterinaria PROPN\n",
            "Municipal PROPN\n",
            ". PUNCT\n",
            "\n",
            " SPACE\n",
            "Posterior PROPN\n",
            "al PROPN\n",
            "rescate NOUN\n",
            ", PUNCT\n",
            "una PROPN\n",
            "ciudadana PROPN\n",
            "de PROPN\n",
            "iniciales PROPN\n",
            "D.C.L. PROPN\n",
            "( PUNCT\n",
            "19 NUM\n",
            ") PUNCT\n",
            ", PUNCT\n",
            "solicitó NOUN\n",
            "poder PROPN\n",
            "adoptar PROPN\n",
            "a DET\n",
            "la PROPN\n",
            "cachorrita PROPN\n",
            ", PUNCT\n",
            "después PROPN\n",
            "de PROPN\n",
            "algunas PROPN\n",
            "coordinaciones PROPN\n",
            "con PROPN\n",
            "el PROPN\n",
            "Veterinario PROPN\n",
            "Municipal PROPN\n",
            "se X\n",
            "aprobó PROPN\n",
            "la PROPN\n",
            "adopción PROPN\n",
            "previa PROPN\n",
            "esterilización PROPN\n",
            ". PUNCT\n"
          ]
        }
      ]
    },
    {
      "cell_type": "code",
      "source": [
        "print(spacy.explain('PROPN'))  # Imprime la explicación de la etiqueta 'PROPN' (proper noun)\n",
        "print(spacy.explain('NOUN'))   # Imprime la explicación de la etiqueta 'NOUN' (noun)\n",
        "print(spacy.explain('PUNCT'))  # Imprime la explicación de la etiqueta 'PUNCT' (punctuation)\n",
        "print(spacy.explain('ADJ'))    # Imprime la explicación de la etiqueta 'ADJ' (adjective)\n",
        "print(spacy.explain('NUM'))    # Imprime la explicación de la etiqueta 'NUM' (numeral)\n",
        "print(spacy.explain('VERB'))   # Imprime la explicación de la etiqueta 'VERB' (verb)\n"
      ],
      "metadata": {
        "colab": {
          "base_uri": "https://localhost:8080/"
        },
        "id": "FUtz3QH7aU97",
        "outputId": "99c91053-5c13-4bae-fbe1-93f05b19ba09"
      },
      "execution_count": 23,
      "outputs": [
        {
          "output_type": "stream",
          "name": "stdout",
          "text": [
            "proper noun\n",
            "noun\n",
            "punctuation\n",
            "adjective\n",
            "numeral\n",
            "verb\n"
          ]
        }
      ]
    },
    {
      "cell_type": "code",
      "source": [
        "for oracion in documento.sents:  # Itera sobre cada oración en el documento procesado\n",
        "    print(oracion)  # Imprime la oración\n",
        "    print('-')  # Imprime un guión como separador entre oraciones"
      ],
      "metadata": {
        "colab": {
          "base_uri": "https://localhost:8080/"
        },
        "id": "INN5tgbMaqRM",
        "outputId": "97c95421-f3ee-4d34-c433-0e80477d5213"
      },
      "execution_count": 24,
      "outputs": [
        {
          "output_type": "stream",
          "name": "stdout",
          "text": [
            "Puno Serenos logran rescatar a un perrito en estado de abandono y logran su adopción.\n",
            "-\n",
            "Durante la ronda de patrullaje por el cerrito Huajsapata, los serenos fueron alertados por un vecino acerca del llanto de un animal dentro de una cueva.\n",
            "\n",
            "-\n",
            "Los efectivos de serenazgo encontraron a un cachorro dentro de un hoyo con restos de comida y ropa.\n",
            "-\n",
            "Luego de varios intentos por rescatarlo pudieron extraer al animal para luego trasladarlo al Puesto de Auxilio Rápido - PAR Huajsapata, donde se comunicó al responsable de la Veterinaria Municipal.\n",
            "\n",
            "-\n",
            "Posterior al rescate, una ciudadana de iniciales D.C.L. (19), solicitó poder adoptar a la cachorrita, después de algunas coordinaciones con el Veterinario Municipal se aprobó la adopción previa esterilización.\n",
            "-\n"
          ]
        }
      ]
    },
    {
      "cell_type": "markdown",
      "source": [
        "#TOKENIZACION"
      ],
      "metadata": {
        "id": "lrXq2Gc3a-L2"
      }
    },
    {
      "cell_type": "code",
      "source": [
        "# Definimos una variable 'texto' con una cadena de texto que contiene una oración.\n",
        "texto = \"Un pasaje de avión, sin escalas, desde Uruguay hacia EE.UU. cuesta $471,88.\"\n",
        "# Aplicamos un proceso NLP (Natural Language Processing) al 'texto', convirtiéndolo en un 'documento'.\n",
        "# Asumimos que 'nlp' es una función o un modelo previamente definido que procesa el texto.\n",
        "documento = nlp(texto)\n",
        "#imprimimos el documento\n",
        "print(documento)"
      ],
      "metadata": {
        "colab": {
          "base_uri": "https://localhost:8080/"
        },
        "id": "kfVA6O3wa5AF",
        "outputId": "391ec228-a210-4804-b81a-dc48fa99988f"
      },
      "execution_count": 25,
      "outputs": [
        {
          "output_type": "stream",
          "name": "stdout",
          "text": [
            "Un pasaje de avión, sin escalas, desde Uruguay hacia EE.UU. cuesta $471,88.\n"
          ]
        }
      ]
    },
    {
      "cell_type": "code",
      "source": [
        "for elemento in documento:# Recorre cada \"elemento\" en el \"documento\". Aquí, \"documento\" podría ser una lista de palabras, frases u objetos más complejos.\n",
        "    print(elemento)# Imprime el \"elemento\" actual en cada iteración del bucle.\n",
        "  #print(type(elemento))"
      ],
      "metadata": {
        "colab": {
          "base_uri": "https://localhost:8080/"
        },
        "id": "ofC5UQ8PbjOD",
        "outputId": "97caeeae-1c4e-4dc2-b789-b0a6635007e0"
      },
      "execution_count": 28,
      "outputs": [
        {
          "output_type": "stream",
          "name": "stdout",
          "text": [
            "Un\n",
            "pasaje\n",
            "de\n",
            "avión\n",
            ",\n",
            "sin\n",
            "escalas\n",
            ",\n",
            "desde\n",
            "Uruguay\n",
            "hacia\n",
            "EE.UU\n",
            ".\n",
            "cuesta\n",
            "$\n",
            "471,88\n",
            ".\n"
          ]
        }
      ]
    },
    {
      "cell_type": "code",
      "source": [
        "\n",
        "for elemento in documento:# Recorre cada \"elemento\" en el \"documento\". Aquí, \"documento\" podría ser una lista de palabras, frases, u objetos más complejos.\n",
        "    # print(elemento.is_currency)\n",
        "    # Esta línea está comentada, pero si se activara, imprimiría si el \"elemento\" es una moneda (True o False).\n",
        "    # print(elemento.lower)\n",
        "    # Esta línea también está comentada, pero si se activara, imprimiría la versión en minúsculas del \"elemento\".\n",
        "    # print(elemento.is_punct)\n",
        "    # Esta línea está comentada, pero si se activara, imprimiría si el \"elemento\" es un signo de puntuación (True o False).\n",
        "    if elemento.is_stop == False:# Esta línea verifica si el \"elemento\" no es una palabra vacía (stop word). \"elemento.is_stop\" es True si es una stop word, y False si no lo es.\n",
        "        print(elemento)# Si el \"elemento\" no es una stop word, se imprime."
      ],
      "metadata": {
        "colab": {
          "base_uri": "https://localhost:8080/"
        },
        "id": "ya15Jzr-brX9",
        "outputId": "b885309d-2635-47da-a3c5-65a35286c699"
      },
      "execution_count": 30,
      "outputs": [
        {
          "output_type": "stream",
          "name": "stdout",
          "text": [
            "Un\n",
            "pasaje\n",
            "de\n",
            "avión\n",
            ",\n",
            "sin\n",
            "escalas\n",
            ",\n",
            "desde\n",
            "Uruguay\n",
            "hacia\n",
            "EE.UU\n",
            ".\n",
            "cuesta\n",
            "$\n",
            "471,88\n",
            ".\n"
          ]
        }
      ]
    },
    {
      "cell_type": "code",
      "source": [
        "#Contar las palabras en el documento\n",
        "len(documento)"
      ],
      "metadata": {
        "colab": {
          "base_uri": "https://localhost:8080/"
        },
        "id": "UFmr7jWjcf0b",
        "outputId": "7bdfc4f9-f48f-4e46-9274-9e726f49f506"
      },
      "execution_count": 31,
      "outputs": [
        {
          "output_type": "execute_result",
          "data": {
            "text/plain": [
              "17"
            ]
          },
          "metadata": {},
          "execution_count": 31
        }
      ]
    },
    {
      "cell_type": "code",
      "source": [
        "#Mostrar los primeros 7 tokens del documento\n",
        "documento[0:7]"
      ],
      "metadata": {
        "colab": {
          "base_uri": "https://localhost:8080/"
        },
        "id": "evpEHGiOcnT2",
        "outputId": "dcebc7c6-496a-41d7-bedc-edd111004af4"
      },
      "execution_count": 32,
      "outputs": [
        {
          "output_type": "execute_result",
          "data": {
            "text/plain": [
              "Un pasaje de avión, sin escalas"
            ]
          },
          "metadata": {},
          "execution_count": 32
        }
      ]
    },
    {
      "cell_type": "code",
      "source": [
        "#Mostrar el décimo token del documento\n",
        "documento[9]"
      ],
      "metadata": {
        "colab": {
          "base_uri": "https://localhost:8080/"
        },
        "id": "E_EmKMbrcp8u",
        "outputId": "a4171ba0-2fab-4161-fe98-a8904072c3db"
      },
      "execution_count": 33,
      "outputs": [
        {
          "output_type": "execute_result",
          "data": {
            "text/plain": [
              "Uruguay"
            ]
          },
          "metadata": {},
          "execution_count": 33
        }
      ]
    },
    {
      "cell_type": "code",
      "source": [
        "documento[9] = 'URUGUAY'"
      ],
      "metadata": {
        "colab": {
          "base_uri": "https://localhost:8080/",
          "height": 146
        },
        "id": "W06IruU3csRz",
        "outputId": "252f4476-bbe5-4e50-84a9-6873221aa6d0"
      },
      "execution_count": 34,
      "outputs": [
        {
          "output_type": "error",
          "ename": "TypeError",
          "evalue": "'spacy.tokens.doc.Doc' object does not support item assignment",
          "traceback": [
            "\u001b[0;31m---------------------------------------------------------------------------\u001b[0m",
            "\u001b[0;31mTypeError\u001b[0m                                 Traceback (most recent call last)",
            "\u001b[0;32m<ipython-input-34-4b58a58d7427>\u001b[0m in \u001b[0;36m<cell line: 1>\u001b[0;34m()\u001b[0m\n\u001b[0;32m----> 1\u001b[0;31m \u001b[0mdocumento\u001b[0m\u001b[0;34m[\u001b[0m\u001b[0;36m9\u001b[0m\u001b[0;34m]\u001b[0m \u001b[0;34m=\u001b[0m \u001b[0;34m'URUGUAY'\u001b[0m\u001b[0;34m\u001b[0m\u001b[0;34m\u001b[0m\u001b[0m\n\u001b[0m",
            "\u001b[0;31mTypeError\u001b[0m: 'spacy.tokens.doc.Doc' object does not support item assignment"
          ]
        }
      ]
    }
  ]
}